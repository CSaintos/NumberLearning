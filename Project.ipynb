{
 "cells": [
  {
   "cell_type": "markdown",
   "metadata": {},
   "source": []
  },
  {
   "cell_type": "code",
   "execution_count": 50,
   "metadata": {},
   "outputs": [],
   "source": [
    "# Toggles/Switches\n",
    "feature_scaling = False\n",
    "normalization = True"
   ]
  },
  {
   "cell_type": "code",
   "execution_count": 51,
   "metadata": {},
   "outputs": [],
   "source": [
    "# Imports\n",
    "import matplotlib.pyplot as plt\n",
    "import tensorflow as tf\n",
    "import numpy as np\n",
    "import random"
   ]
  },
  {
   "cell_type": "code",
   "execution_count": 52,
   "metadata": {},
   "outputs": [
    {
     "name": "stdout",
     "output_type": "stream",
     "text": [
      "train features shape:  (60000, 28, 28)\n",
      "train labels shape:  (60000,)\n",
      "test set size:  10000\n",
      "Min-max values of single pixel:  (0, 255)\n",
      "[  0   0   0   0   0   0   0   0   0   0   0   0   3  18  18  18 126 136\n",
      " 175  26 166 255 247 127   0   0   0   0]\n"
     ]
    }
   ],
   "source": [
    "# Load Data\n",
    "(x_train, y_train), \\\n",
    "  (x_test, y_test) = \\\n",
    "  tf.keras.datasets.mnist.load_data()\n",
    "\n",
    "# Check data shapes\n",
    "print(\"train features shape: \", x_train.shape)\n",
    "print(\"train labels shape: \", y_train.shape)\n",
    "print(\"test set size: \", len(x_test))\n",
    "print(\"Min-max values of single pixel: \", (x_train.min(), x_test.max()))\n",
    "\n",
    "\n",
    "# Print first training example\n",
    "print(x_train[0][5]) # print a row in image\n",
    "\n",
    "#? What can we infer from checking the data?\n",
    "#* Image greyscaling ranges from 0 - 255\n",
    "#* Image size is 28 * 28 pixels\n",
    "#* Training set is 60,000 images\n",
    "#* Testing set is 10,000 images"
   ]
  },
  {
   "cell_type": "code",
   "execution_count": 53,
   "metadata": {},
   "outputs": [],
   "source": [
    "# Feature Scaling\n",
    "if feature_scaling:\n",
    "  x_train, x_test = \\\n",
    "    x_train / x_train.max(), \\\n",
    "    x_test / x_test.max()\n",
    "\n",
    "# Normalization\n",
    "if normalization:\n",
    "  x_train, x_test = \\\n",
    "    (x_train - x_train.mean()) / (x_train.max() - x_train.min()), \\\n",
    "    (x_test - x_test.mean()) / (x_test.max() - x_test.min())"
   ]
  },
  {
   "cell_type": "code",
   "execution_count": 54,
   "metadata": {},
   "outputs": [
    {
     "data": {
      "image/png": "[encoded data removed]",
      "text/plain": [
       "<Figure size 432x288 with 1 Axes>"
      ]
     },
     "metadata": {
      "needs_background": "light"
     },
     "output_type": "display_data"
    }
   ],
   "source": [
    "# Visualize Data\n",
    "index = random.randrange(0, len(x_train))\n",
    "\n",
    "plt.figure(1)\n",
    "plt.title(y_train[index])\n",
    "plt.imshow(x_train[index])\n",
    "plt.gray()\n",
    "plt.axis('off')\n",
    "plt.show()"
   ]
  },
  {
   "cell_type": "code",
   "execution_count": 55,
   "metadata": {},
   "outputs": [
    {
     "name": "stdout",
     "output_type": "stream",
     "text": [
      "Epoch 1/10\n",
      "1875/1875 [==============================] - 5s 2ms/step - loss: 7.9072 - accuracy: 0.1011 - val_loss: 7.0010 - val_accuracy: 0.1141\n",
      "Epoch 2/10\n",
      "1875/1875 [==============================] - 2s 1ms/step - loss: 7.4969 - accuracy: 0.1053 - val_loss: 5.2910 - val_accuracy: 0.0996\n",
      "Epoch 3/10\n",
      "1875/1875 [==============================] - 2s 1ms/step - loss: 7.8279 - accuracy: 0.0989 - val_loss: 8.2393 - val_accuracy: 0.0978\n",
      "Epoch 4/10\n",
      "1875/1875 [==============================] - 2s 1ms/step - loss: 8.2561 - accuracy: 0.1001 - val_loss: 8.1784 - val_accuracy: 0.1011\n",
      "Epoch 5/10\n",
      "1875/1875 [==============================] - 2s 1ms/step - loss: 8.4693 - accuracy: 0.1024 - val_loss: 8.1993 - val_accuracy: 0.0994\n",
      "Epoch 6/10\n",
      "1875/1875 [==============================] - 2s 1ms/step - loss: 8.9933 - accuracy: 0.1017 - val_loss: 9.0245 - val_accuracy: 0.1004\n",
      "Epoch 7/10\n",
      "1875/1875 [==============================] - 2s 1ms/step - loss: 9.0334 - accuracy: 0.1019 - val_loss: 9.0245 - val_accuracy: 0.1004\n",
      "Epoch 8/10\n",
      "1875/1875 [==============================] - 2s 1ms/step - loss: 9.0334 - accuracy: 0.1019 - val_loss: 9.0245 - val_accuracy: 0.1004\n",
      "Epoch 9/10\n",
      "1875/1875 [==============================] - 2s 1ms/step - loss: 9.0334 - accuracy: 0.1019 - val_loss: 9.0245 - val_accuracy: 0.1004\n",
      "Epoch 10/10\n",
      "1875/1875 [==============================] - 2s 1ms/step - loss: 9.0334 - accuracy: 0.1019 - val_loss: 9.0245 - val_accuracy: 0.1004\n"
     ]
    }
   ],
   "source": [
    "# TensorFlow solution 1\n",
    "# Set rand seed\n",
    "tf.random.set_seed(42)\n",
    "\n",
    "# Create the model\n",
    "model_1 = tf.keras.Sequential([\n",
    "  # Flattening the data turns it into a 1D array\n",
    "  #   Takes the current shape and stacks it (multiply shape)\n",
    "  #   From (28, 28) -> (, 784)\n",
    "  tf.keras.layers.Flatten(input_shape=(28,28)),\n",
    "  tf.keras.layers.Dense(4),\n",
    "  tf.keras.layers.Dense(4),\n",
    "  tf.keras.layers.Dense(10)\n",
    "])\n",
    "\n",
    "# Compile model\n",
    "model_1.compile(\n",
    "  # CategoricalCrossentropy must receive one-hot encoded data\n",
    "  # Hence shape error\n",
    "  # So instead we'll use SparseCategoricalCrossentropy() which can take in integers\n",
    "  loss=tf.keras.losses.CategoricalCrossentropy(),\n",
    "  optimizer=tf.keras.optimizers.Adam(),\n",
    "  metrics=[\"accuracy\"]\n",
    ")\n",
    "\n",
    "# Fit model\n",
    "non_norm_history = model_1.fit(\n",
    "  x_train,\n",
    "  tf.one_hot(y_train, depth=10),\n",
    "  epochs=10,\n",
    "  validation_data=(x_test, tf.one_hot(y_test, depth=10))\n",
    ")"
   ]
  },
  {
   "cell_type": "code",
   "execution_count": 56,
   "metadata": {},
   "outputs": [
    {
     "name": "stdout",
     "output_type": "stream",
     "text": [
      "Epoch 1/10\n",
      "1875/1875 [==============================] - 2s 1ms/step - loss: 9.0334 - accuracy: 0.1019 - val_loss: 9.0245 - val_accuracy: 0.1004\n",
      "Epoch 2/10\n",
      "1875/1875 [==============================] - 3s 1ms/step - loss: 9.0334 - accuracy: 0.1019 - val_loss: 9.0245 - val_accuracy: 0.1004\n",
      "Epoch 3/10\n",
      "1875/1875 [==============================] - 2s 1ms/step - loss: 9.0334 - accuracy: 0.1019 - val_loss: 9.0245 - val_accuracy: 0.1004\n",
      "Epoch 4/10\n",
      "1875/1875 [==============================] - 4s 2ms/step - loss: 9.0334 - accuracy: 0.1019 - val_loss: 9.0245 - val_accuracy: 0.1004\n",
      "Epoch 5/10\n",
      "1875/1875 [==============================] - 3s 1ms/step - loss: 9.0334 - accuracy: 0.1019 - val_loss: 9.0245 - val_accuracy: 0.1004\n",
      "Epoch 6/10\n",
      "1875/1875 [==============================] - 3s 2ms/step - loss: 9.0334 - accuracy: 0.1019 - val_loss: 9.0245 - val_accuracy: 0.1004\n",
      "Epoch 7/10\n",
      "1875/1875 [==============================] - 3s 2ms/step - loss: 9.0334 - accuracy: 0.1019 - val_loss: 9.0245 - val_accuracy: 0.1004\n",
      "Epoch 8/10\n",
      "1875/1875 [==============================] - 3s 1ms/step - loss: 9.0334 - accuracy: 0.1019 - val_loss: 9.0245 - val_accuracy: 0.1004\n",
      "Epoch 9/10\n",
      "1875/1875 [==============================] - 2s 1ms/step - loss: 9.0334 - accuracy: 0.1019 - val_loss: 9.0245 - val_accuracy: 0.1004\n",
      "Epoch 10/10\n",
      "1875/1875 [==============================] - 2s 1ms/step - loss: 9.0334 - accuracy: 0.1019 - val_loss: 9.0245 - val_accuracy: 0.1004\n"
     ]
    }
   ],
   "source": [
    "# TensorFlow solution 2\n",
    "# Change: activation function\n",
    "\n",
    "# Create the model\n",
    "model_2 = tf.keras.Sequential([\n",
    "    # Flattening our data turns it into a 1D array\n",
    "    #   Takes the current shape and stacks it (multiply shape)\n",
    "    #   In this case (28,28) -> (, 784)\n",
    "    tf.keras.layers.Flatten(input_shape=(28,28)),\n",
    "    tf.keras.layers.Dense(4, activation=\"relu\"),\n",
    "    tf.keras.layers.Dense(4, activation=\"relu\"),\n",
    "    tf.keras.layers.Dense(10, activation=tf.keras.activations.softmax)\n",
    "])\n",
    "\n",
    "# Compile model\n",
    "model_2.compile(\n",
    "    # CategoricalCrossentropy must receive one-hot encoded data\n",
    "    # Hence shape error\n",
    "    # So instead we'll use SparseCategoricalCrossentropy() which can take in integers\n",
    "    loss=tf.keras.losses.CategoricalCrossentropy(),\n",
    "    optimizer=tf.keras.optimizers.Adam(),\n",
    "    metrics=[\"accuracy\"]\n",
    ")\n",
    "\n",
    "# Fit model\n",
    "non_norm_history_2 = model_1.fit(\n",
    "    x_train,\n",
    "    tf.one_hot(y_train, depth=10),\n",
    "    epochs=10,\n",
    "    validation_data=(x_test, tf.one_hot(y_test, depth=10))\n",
    ")"
   ]
  },
  {
   "cell_type": "code",
   "execution_count": 63,
   "metadata": {},
   "outputs": [
    {
     "name": "stdout",
     "output_type": "stream",
     "text": [
      "Epoch 1/10\n",
      "1875/1875 [==============================] - 5s 2ms/step - loss: 0.1793 - accuracy: 0.9480 - val_loss: 0.2093 - val_accuracy: 0.9404\n",
      "Epoch 2/10\n",
      "1875/1875 [==============================] - 4s 2ms/step - loss: 0.1783 - accuracy: 0.9482 - val_loss: 0.2269 - val_accuracy: 0.9347\n",
      "Epoch 3/10\n",
      "1875/1875 [==============================] - 5s 3ms/step - loss: 0.1757 - accuracy: 0.9489 - val_loss: 0.2043 - val_accuracy: 0.9436\n",
      "Epoch 4/10\n",
      "1875/1875 [==============================] - 4s 2ms/step - loss: 0.1750 - accuracy: 0.9496 - val_loss: 0.2143 - val_accuracy: 0.9420\n",
      "Epoch 5/10\n",
      "1875/1875 [==============================] - 4s 2ms/step - loss: 0.1750 - accuracy: 0.9494 - val_loss: 0.2171 - val_accuracy: 0.9403\n",
      "Epoch 6/10\n",
      "1875/1875 [==============================] - 4s 2ms/step - loss: 0.1733 - accuracy: 0.9494 - val_loss: 0.2080 - val_accuracy: 0.9411\n",
      "Epoch 7/10\n",
      "1875/1875 [==============================] - 4s 2ms/step - loss: 0.1722 - accuracy: 0.9499 - val_loss: 0.2056 - val_accuracy: 0.9420\n",
      "Epoch 8/10\n",
      "1875/1875 [==============================] - 5s 2ms/step - loss: 0.1716 - accuracy: 0.9508 - val_loss: 0.2027 - val_accuracy: 0.9430\n",
      "Epoch 9/10\n",
      "1875/1875 [==============================] - 5s 3ms/step - loss: 0.1697 - accuracy: 0.9507 - val_loss: 0.2164 - val_accuracy: 0.9383\n",
      "Epoch 10/10\n",
      "1875/1875 [==============================] - 4s 2ms/step - loss: 0.1689 - accuracy: 0.9510 - val_loss: 0.2053 - val_accuracy: 0.9421\n"
     ]
    }
   ],
   "source": [
    "# TensorFlow solution 3\n",
    "\n",
    "# set rand seed\n",
    "tf.random.set_seed(42)\n",
    "\n",
    "# Create model\n",
    "model_3 = tf.keras.Sequential([\n",
    "    tf.keras.layers.Flatten(input_shape=(28,28)),\n",
    "    tf.keras.layers.Dense(6, activation=\"relu\"),\n",
    "    tf.keras.layers.Dense(6, activation=\"relu\"),\n",
    "    tf.keras.layers.Dense(10, activation=\"softmax\")\n",
    "])\n",
    "\n",
    "# Compile model\n",
    "model_3.compile(\n",
    "    loss=tf.keras.losses.CategoricalCrossentropy(),\n",
    "    optimizer=tf.keras.optimizers.Adam(),\n",
    "    metrics=[\"accuracy\"]\n",
    ")\n",
    "\n",
    "# Fit model\n",
    "history_3 = model_4.fit(\n",
    "    x_train,\n",
    "    tf.one_hot(y_train, depth=10),\n",
    "    epochs=10,\n",
    "    validation_data=(x_test, tf.one_hot(y_test, depth=10))\n",
    ")"
   ]
  },
  {
   "cell_type": "code",
   "execution_count": 64,
   "metadata": {},
   "outputs": [
    {
     "name": "stdout",
     "output_type": "stream",
     "text": [
      "Epoch 1/10\n",
      "1875/1875 [==============================] - 3s 1ms/step - loss: 0.5864 - accuracy: 0.8194 - val_loss: 0.3222 - val_accuracy: 0.9047\n",
      "Epoch 2/10\n",
      "1875/1875 [==============================] - 3s 1ms/step - loss: 0.3153 - accuracy: 0.9083 - val_loss: 0.2949 - val_accuracy: 0.9167racy\n",
      "Epoch 3/10\n",
      "1875/1875 [==============================] - 2s 1ms/step - loss: 0.2819 - accuracy: 0.9184 - val_loss: 0.2690 - val_accuracy: 0.9222\n",
      "Epoch 4/10\n",
      "1875/1875 [==============================] - 4s 2ms/step - loss: 0.2622 - accuracy: 0.9243 - val_loss: 0.2580 - val_accuracy: 0.9256\n",
      "Epoch 5/10\n",
      "1875/1875 [==============================] - 5s 2ms/step - loss: 0.2467 - accuracy: 0.9286 - val_loss: 0.2483 - val_accuracy: 0.9284\n",
      "Epoch 6/10\n",
      "1875/1875 [==============================] - 4s 2ms/step - loss: 0.2343 - accuracy: 0.9317 - val_loss: 0.2387 - val_accuracy: 0.9279\n",
      "Epoch 7/10\n",
      "1875/1875 [==============================] - 2s 1ms/step - loss: 0.2250 - accuracy: 0.9339 - val_loss: 0.2261 - val_accuracy: 0.9330\n",
      "Epoch 8/10\n",
      "1875/1875 [==============================] - 2s 1ms/step - loss: 0.2181 - accuracy: 0.9375 - val_loss: 0.2207 - val_accuracy: 0.9348\n",
      "Epoch 9/10\n",
      "1875/1875 [==============================] - 2s 1ms/step - loss: 0.2114 - accuracy: 0.9394 - val_loss: 0.2294 - val_accuracy: 0.9323\n",
      "Epoch 10/10\n",
      "1875/1875 [==============================] - 2s 1ms/step - loss: 0.2069 - accuracy: 0.9407 - val_loss: 0.2148 - val_accuracy: 0.9375\n"
     ]
    }
   ],
   "source": [
    "# TensorFlow solution 4\n",
    "\n",
    "# set rand seed\n",
    "tf.random.set_seed(42)\n",
    "\n",
    "# Create model\n",
    "model_4 = tf.keras.Sequential([\n",
    "    tf.keras.layers.Flatten(input_shape=(28,28)),\n",
    "    tf.keras.layers.Dense(10, activation=\"relu\"),\n",
    "    tf.keras.layers.Dense(10, activation=\"relu\"),\n",
    "    tf.keras.layers.Dense(10, activation=\"softmax\")\n",
    "])\n",
    "\n",
    "# Compile model\n",
    "model_4.compile(\n",
    "    loss=tf.keras.losses.CategoricalCrossentropy(),\n",
    "    optimizer=tf.keras.optimizers.Adam(),\n",
    "    metrics=[\"accuracy\"]\n",
    ")\n",
    "\n",
    "# Fit model\n",
    "history_4 = model_4.fit(\n",
    "    x_train,\n",
    "    tf.one_hot(y_train, depth=10),\n",
    "    epochs=10,\n",
    "    validation_data=(x_test, tf.one_hot(y_test, depth=10))\n",
    ")"
   ]
  },
  {
   "cell_type": "code",
   "execution_count": 59,
   "metadata": {},
   "outputs": [
    {
     "name": "stdout",
     "output_type": "stream",
     "text": [
      "Epoch 1/10\n",
      "1875/1875 [==============================] - 7s 4ms/step - loss: 0.2029 - accuracy: 0.9416 - val_loss: 0.2141 - val_accuracy: 0.9378\n",
      "Epoch 2/10\n",
      "1875/1875 [==============================] - 6s 3ms/step - loss: 0.1995 - accuracy: 0.9424 - val_loss: 0.2296 - val_accuracy: 0.9339\n",
      "Epoch 3/10\n",
      "1875/1875 [==============================] - 4s 2ms/step - loss: 0.1949 - accuracy: 0.9432 - val_loss: 0.2117 - val_accuracy: 0.9406\n",
      "Epoch 4/10\n",
      "1875/1875 [==============================] - 6s 3ms/step - loss: 0.1928 - accuracy: 0.9441 - val_loss: 0.2165 - val_accuracy: 0.9412\n",
      "Epoch 5/10\n",
      "1875/1875 [==============================] - 6s 3ms/step - loss: 0.1910 - accuracy: 0.9449 - val_loss: 0.2196 - val_accuracy: 0.9395\n",
      "Epoch 6/10\n",
      "1875/1875 [==============================] - 5s 3ms/step - loss: 0.1885 - accuracy: 0.9449 - val_loss: 0.2103 - val_accuracy: 0.9416\n",
      "Epoch 7/10\n",
      "1875/1875 [==============================] - 7s 4ms/step - loss: 0.1859 - accuracy: 0.9455 - val_loss: 0.2083 - val_accuracy: 0.9394\n",
      "Epoch 8/10\n",
      "1875/1875 [==============================] - 4s 2ms/step - loss: 0.1847 - accuracy: 0.9470 - val_loss: 0.2057 - val_accuracy: 0.9418\n",
      "Epoch 9/10\n",
      "1875/1875 [==============================] - 2s 1ms/step - loss: 0.1817 - accuracy: 0.9475 - val_loss: 0.2202 - val_accuracy: 0.9377\n",
      "Epoch 10/10\n",
      "1875/1875 [==============================] - 4s 2ms/step - loss: 0.1808 - accuracy: 0.9480 - val_loss: 0.2085 - val_accuracy: 0.9408\n"
     ]
    }
   ],
   "source": [
    "# TensorFlow solution 5\n",
    "\n",
    "# set rand seed\n",
    "tf.random.set_seed(42)\n",
    "\n",
    "# Create model\n",
    "model_5 = tf.keras.Sequential([\n",
    "    tf.keras.layers.Flatten(input_shape=(28,28)),\n",
    "    tf.keras.layers.Dense(100, activation=\"relu\"),\n",
    "    tf.keras.layers.Dense(100, activation=\"relu\"),\n",
    "    tf.keras.layers.Dense(10, activation=\"softmax\")\n",
    "])\n",
    "\n",
    "# Compile model\n",
    "model_5.compile(\n",
    "    loss=tf.keras.losses.CategoricalCrossentropy(),\n",
    "    optimizer=tf.keras.optimizers.Adam(),\n",
    "    metrics=[\"accuracy\"]\n",
    ")\n",
    "\n",
    "# Fit model\n",
    "history_5 = model_4.fit(\n",
    "    x_train,\n",
    "    tf.one_hot(y_train, depth=10),\n",
    "    epochs=10,\n",
    "    validation_data=(x_test, tf.one_hot(y_test, depth=10))\n",
    ")"
   ]
  },
  {
   "cell_type": "code",
   "execution_count": 62,
   "metadata": {},
   "outputs": [
    {
     "data": {
      "text/plain": [
       "(7,\n",
       " array([0.11273664, 0.1278133 , 0.06095951, 0.11367871, 0.05743667,\n",
       "        0.17755191, 0.10757847, 0.05365093, 0.09142938, 0.0971645 ],\n",
       "       dtype=float32))"
      ]
     },
     "execution_count": 62,
     "metadata": {},
     "output_type": "execute_result"
    }
   ],
   "source": [
    "# Test model 5\n",
    "y_probs = model_5.predict(x_test)\n",
    "y_test[0], y_probs[0]"
   ]
  },
  {
   "cell_type": "markdown",
   "metadata": {},
   "source": []
  }
 ],
 "metadata": {
  "interpreter": {
   "hash": "28771251137f230fac5848d27aa6aa065f8df7f156d7140e42141567d4b07c83"
  },
  "kernelspec": {
   "display_name": "Python 3.9.2 64-bit",
   "language": "python",
   "name": "python3"
  },
  "language_info": {
   "codemirror_mode": {
    "name": "ipython",
    "version": 3
   },
   "file_extension": ".py",
   "mimetype": "text/x-python",
   "name": "python",
   "nbconvert_exporter": "python",
   "pygments_lexer": "ipython3",
   "version": "3.9.2"
  },
  "orig_nbformat": 4
 },
 "nbformat": 4,
 "nbformat_minor": 2
}
