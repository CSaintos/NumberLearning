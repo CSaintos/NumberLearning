{
 "cells": [
  {
   "cell_type": "markdown",
   "metadata": {},
   "source": []
  },
  {
   "cell_type": "code",
   "execution_count": 7,
   "metadata": {},
   "outputs": [],
   "source": [
    "# Toggles/Switches\n",
    "feature_scaling = True"
   ]
  },
  {
   "cell_type": "code",
   "execution_count": 8,
   "metadata": {},
   "outputs": [],
   "source": [
    "# Imports\n",
    "import matplotlib.pyplot as plt\n",
    "import tensorflow as tf\n",
    "import numpy as np\n",
    "import random"
   ]
  },
  {
   "cell_type": "code",
   "execution_count": 9,
   "metadata": {},
   "outputs": [
    {
     "name": "stdout",
     "output_type": "stream",
     "text": [
      "train features shape:  (60000, 28, 28)\n",
      "train labels shape:  (60000,)\n",
      "test set size:  10000\n",
      "Min-max values of single pixel:  (0, 255)\n",
      "[  0   0   0   0   0   0   0   0   0   0   0   0   3  18  18  18 126 136\n",
      " 175  26 166 255 247 127   0   0   0   0]\n"
     ]
    }
   ],
   "source": [
    "# Load Data\n",
    "(x_train, y_train), \\\n",
    "  (x_test, y_test) = \\\n",
    "  tf.keras.datasets.mnist.load_data()\n",
    "\n",
    "# Check data shapes\n",
    "print(\"train features shape: \", x_train.shape)\n",
    "print(\"train labels shape: \", y_train.shape)\n",
    "print(\"test set size: \", len(x_test))\n",
    "print(\"Min-max values of single pixel: \", (x_train.min(), x_test.max()))\n",
    "\n",
    "\n",
    "# Print first training example\n",
    "print(x_train[0][5]) # print a row in image\n",
    "\n",
    "#? What can we infer from checking the data?\n",
    "#* Image greyscaling ranges from 0 - 255\n",
    "#* Image size is 28 * 28 pixels\n",
    "#* Training set is 60,000 images\n",
    "#* Testing set is 10,000 images"
   ]
  },
  {
   "cell_type": "code",
   "execution_count": 10,
   "metadata": {},
   "outputs": [],
   "source": [
    "# Feature Scaling\n",
    "if feature_scaling:\n",
    "  x_train, x_test = \\\n",
    "    x_train / x_train.max(), \\\n",
    "    x_test / x_test.max()"
   ]
  },
  {
   "cell_type": "code",
   "execution_count": 11,
   "metadata": {},
   "outputs": [
    {
     "data": {
      "image/png": "[encoded data removed]",
      "text/plain": [
       "<Figure size 432x288 with 1 Axes>"
      ]
     },
     "metadata": {
      "needs_background": "light"
     },
     "output_type": "display_data"
    }
   ],
   "source": [
    "# Visualize Data\n",
    "index = random.randrange(0, len(x_train))\n",
    "\n",
    "plt.figure(1)\n",
    "plt.title(y_train[index])\n",
    "plt.imshow(x_train[index])\n",
    "plt.gray()\n",
    "plt.axis('off')\n",
    "plt.show()"
   ]
  },
  {
   "cell_type": "code",
   "execution_count": 12,
   "metadata": {},
   "outputs": [
    {
     "name": "stdout",
     "output_type": "stream",
     "text": [
      "Epoch 1/10\n",
      "1875/1875 [==============================] - 7s 3ms/step - loss: 9.1650 - accuracy: 0.0979 - val_loss: 9.8562 - val_accuracy: 0.1023\n",
      "Epoch 2/10\n",
      "1875/1875 [==============================] - 3s 2ms/step - loss: 9.8409 - accuracy: 0.1034 - val_loss: 9.8562 - val_accuracy: 0.1023\n",
      "Epoch 3/10\n",
      "1875/1875 [==============================] - 3s 1ms/step - loss: 9.8409 - accuracy: 0.1034 - val_loss: 9.8562 - val_accuracy: 0.1023\n",
      "Epoch 4/10\n",
      "1875/1875 [==============================] - 3s 2ms/step - loss: 9.8409 - accuracy: 0.1034 - val_loss: 9.8562 - val_accuracy: 0.1023\n",
      "Epoch 5/10\n",
      "1875/1875 [==============================] - 4s 2ms/step - loss: 9.8409 - accuracy: 0.1034 - val_loss: 9.8562 - val_accuracy: 0.1023\n",
      "Epoch 6/10\n",
      "1875/1875 [==============================] - 3s 1ms/step - loss: 9.8409 - accuracy: 0.1034 - val_loss: 9.8562 - val_accuracy: 0.1023\n",
      "Epoch 7/10\n",
      "1875/1875 [==============================] - 3s 2ms/step - loss: 9.8409 - accuracy: 0.1034 - val_loss: 9.8562 - val_accuracy: 0.1023\n",
      "Epoch 8/10\n",
      "1875/1875 [==============================] - 4s 2ms/step - loss: 9.8409 - accuracy: 0.1034 - val_loss: 9.8562 - val_accuracy: 0.1023\n",
      "Epoch 9/10\n",
      "1875/1875 [==============================] - 3s 2ms/step - loss: 9.8409 - accuracy: 0.1034 - val_loss: 9.8562 - val_accuracy: 0.1023\n",
      "Epoch 10/10\n",
      "1875/1875 [==============================] - 4s 2ms/step - loss: 9.8409 - accuracy: 0.1034 - val_loss: 9.8562 - val_accuracy: 0.1023\n"
     ]
    }
   ],
   "source": [
    "# TensorFlow solution 1\n",
    "# Set rand seed\n",
    "tf.random.set_seed(42)\n",
    "\n",
    "# Create the model\n",
    "model_1 = tf.keras.Sequential([\n",
    "  # Flattening the data turns it into a 1D array\n",
    "  #   Takes the current shape and stacks it (multiply shape)\n",
    "  #   From (28, 28) -> (, 784)\n",
    "  tf.keras.layers.Flatten(input_shape=(28,28)),\n",
    "  tf.keras.layers.Dense(4),\n",
    "  tf.keras.layers.Dense(4),\n",
    "  tf.keras.layers.Dense(10)\n",
    "])\n",
    "\n",
    "# Compile model\n",
    "model_1.compile(\n",
    "  # CategoricalCrossentropy must receive one-hot encoded data\n",
    "  # Hence shape error\n",
    "  # So instead we'll use SparseCategoricalCrossentropy() which can take in integers\n",
    "  loss=tf.keras.losses.CategoricalCrossentropy(),\n",
    "  optimizer=tf.keras.optimizers.Adam(),\n",
    "  metrics=[\"accuracy\"]\n",
    ")\n",
    "\n",
    "# Fit model\n",
    "non_norm_history = model_1.fit(\n",
    "  x_train,\n",
    "  tf.one_hot(y_train, depth=10),\n",
    "  epochs=10,\n",
    "  validation_data=(x_test, tf.one_hot(y_test, depth=10))\n",
    ")"
   ]
  },
  {
   "cell_type": "code",
   "execution_count": 13,
   "metadata": {},
   "outputs": [
    {
     "name": "stdout",
     "output_type": "stream",
     "text": [
      "Epoch 1/10\n",
      "1875/1875 [==============================] - 4s 2ms/step - loss: 1.3050 - accuracy: 0.5559 - val_loss: 0.8816 - val_accuracy: 0.7248\n",
      "Epoch 2/10\n",
      "1875/1875 [==============================] - 3s 2ms/step - loss: 0.7364 - accuracy: 0.7903 - val_loss: 0.6102 - val_accuracy: 0.8341\n",
      "Epoch 3/10\n",
      "1875/1875 [==============================] - 4s 2ms/step - loss: 0.5954 - accuracy: 0.8340 - val_loss: 0.5613 - val_accuracy: 0.8489\n",
      "Epoch 4/10\n",
      "1875/1875 [==============================] - 3s 1ms/step - loss: 0.5537 - accuracy: 0.8454 - val_loss: 0.5584 - val_accuracy: 0.8492\n",
      "Epoch 5/10\n",
      "1875/1875 [==============================] - 3s 1ms/step - loss: 0.5338 - accuracy: 0.8496 - val_loss: 0.5211 - val_accuracy: 0.8594\n",
      "Epoch 6/10\n",
      "1875/1875 [==============================] - 3s 2ms/step - loss: 0.5213 - accuracy: 0.8534 - val_loss: 0.5114 - val_accuracy: 0.8603\n",
      "Epoch 7/10\n",
      "1875/1875 [==============================] - 5s 3ms/step - loss: 0.5110 - accuracy: 0.8558 - val_loss: 0.5146 - val_accuracy: 0.8546\n",
      "Epoch 8/10\n",
      "1875/1875 [==============================] - 3s 2ms/step - loss: 0.5049 - accuracy: 0.8562 - val_loss: 0.5080 - val_accuracy: 0.8630\n",
      "Epoch 9/10\n",
      "1875/1875 [==============================] - 3s 2ms/step - loss: 0.4992 - accuracy: 0.8584 - val_loss: 0.4982 - val_accuracy: 0.8586\n",
      "Epoch 10/10\n",
      "1875/1875 [==============================] - 4s 2ms/step - loss: 0.4952 - accuracy: 0.8582 - val_loss: 0.5065 - val_accuracy: 0.8588\n"
     ]
    }
   ],
   "source": [
    "# TensorFlow solution 2\n",
    "# Change: activation function\n",
    "\n",
    "# Create the model\n",
    "model_1 = tf.keras.Sequential([\n",
    "    # Flattening our data turns it into a 1D array\n",
    "    #   Takes the current shape and stacks it (multiply shape)\n",
    "    #   In this case (28,28) -> (, 784)\n",
    "    tf.keras.layers.Flatten(input_shape=(28,28)),\n",
    "    tf.keras.layers.Dense(4, activation=\"relu\"),\n",
    "    tf.keras.layers.Dense(4, activation=\"relu\"),\n",
    "    tf.keras.layers.Dense(10, activation=tf.keras.activations.softmax)\n",
    "])\n",
    "\n",
    "# Compile model\n",
    "model_1.compile(\n",
    "    # CategoricalCrossentropy must receive one-hot encoded data\n",
    "    # Hence shape error\n",
    "    # So instead we'll use SparseCategoricalCrossentropy() which can take in integers\n",
    "    loss=tf.keras.losses.CategoricalCrossentropy(),\n",
    "    optimizer=tf.keras.optimizers.Adam(),\n",
    "    metrics=[\"accuracy\"]\n",
    ")\n",
    "\n",
    "# Fit model\n",
    "non_norm_history = model_1.fit(\n",
    "    x_train,\n",
    "    tf.one_hot(y_train, depth=10),\n",
    "    epochs=10,\n",
    "    validation_data=(x_test, tf.one_hot(y_test, depth=10))\n",
    ")"
   ]
  },
  {
   "cell_type": "code",
   "execution_count": 19,
   "metadata": {},
   "outputs": [
    {
     "name": "stdout",
     "output_type": "stream",
     "text": [
      "Epoch 1/10\n",
      "1875/1875 [==============================] - 6s 2ms/step - loss: 0.8968 - accuracy: 0.6977 - val_loss: 0.6790 - val_accuracy: 0.7763\n",
      "Epoch 2/10\n",
      "1875/1875 [==============================] - 3s 1ms/step - loss: 0.6418 - accuracy: 0.8002 - val_loss: 0.6451 - val_accuracy: 0.8041\n",
      "Epoch 3/10\n",
      "1875/1875 [==============================] - 3s 1ms/step - loss: 0.5956 - accuracy: 0.8210 - val_loss: 0.5954 - val_accuracy: 0.8244\n",
      "Epoch 4/10\n",
      "1875/1875 [==============================] - 3s 1ms/step - loss: 0.5682 - accuracy: 0.8292 - val_loss: 0.5736 - val_accuracy: 0.8302\n",
      "Epoch 5/10\n",
      "1875/1875 [==============================] - 3s 2ms/step - loss: 0.5517 - accuracy: 0.8353 - val_loss: 0.5641 - val_accuracy: 0.8333\n",
      "Epoch 6/10\n",
      "1875/1875 [==============================] - 5s 2ms/step - loss: 0.5386 - accuracy: 0.8392 - val_loss: 0.5646 - val_accuracy: 0.8363\n",
      "Epoch 7/10\n",
      "1875/1875 [==============================] - 5s 2ms/step - loss: 0.5270 - accuracy: 0.8438 - val_loss: 0.5471 - val_accuracy: 0.8422\n",
      "Epoch 8/10\n",
      "1875/1875 [==============================] - 3s 1ms/step - loss: 0.5207 - accuracy: 0.8468 - val_loss: 0.5431 - val_accuracy: 0.8450\n",
      "Epoch 9/10\n",
      "1875/1875 [==============================] - 3s 2ms/step - loss: 0.5153 - accuracy: 0.8483 - val_loss: 0.5291 - val_accuracy: 0.8457\n",
      "Epoch 10/10\n",
      "1875/1875 [==============================] - 3s 2ms/step - loss: 0.5104 - accuracy: 0.8505 - val_loss: 0.5419 - val_accuracy: 0.8470\n"
     ]
    }
   ],
   "source": [
    "# TensorFlow solution 3\n",
    "\n",
    "# set rand seed\n",
    "tf.random.set_seed(42)\n",
    "\n",
    "# Create model\n",
    "model_4 = tf.keras.Sequential([\n",
    "    tf.keras.layers.Flatten(input_shape=(28,28)),\n",
    "    tf.keras.layers.Dense(4, activation=\"relu\"),\n",
    "    tf.keras.layers.Dense(4, activation=\"relu\"),\n",
    "    tf.keras.layers.Dense(10, activation=\"softmax\")\n",
    "])\n",
    "\n",
    "# Compile model\n",
    "model_4.compile(\n",
    "    loss=tf.keras.losses.SparseCategoricalCrossentropy(),\n",
    "    optimizer=tf.keras.optimizers.Adam(learning_rate=0.002),\n",
    "    metrics=[\"accuracy\"]\n",
    ")\n",
    "\n",
    "# Fit model\n",
    "history_4 = model_4.fit(\n",
    "    x_train,\n",
    "    y_train,\n",
    "    epochs=10,\n",
    "    validation_data=(x_test, y_test)\n",
    ")"
   ]
  },
  {
   "cell_type": "markdown",
   "metadata": {},
   "source": []
  }
 ],
 "metadata": {
  "interpreter": {
   "hash": "28771251137f230fac5848d27aa6aa065f8df7f156d7140e42141567d4b07c83"
  },
  "kernelspec": {
   "display_name": "Python 3.9.2 64-bit",
   "language": "python",
   "name": "python3"
  },
  "language_info": {
   "codemirror_mode": {
    "name": "ipython",
    "version": 3
   },
   "file_extension": ".py",
   "mimetype": "text/x-python",
   "name": "python",
   "nbconvert_exporter": "python",
   "pygments_lexer": "ipython3",
   "version": "3.9.2"
  },
  "orig_nbformat": 4
 },
 "nbformat": 4,
 "nbformat_minor": 2
}
