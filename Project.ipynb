{
 "cells": [
  {
   "cell_type": "markdown",
   "metadata": {},
   "source": []
  },
  {
   "cell_type": "code",
   "execution_count": 73,
   "metadata": {},
   "outputs": [],
   "source": [
    "# Imports\n",
    "#from mnist import MNIST\n",
    "import matplotlib.pyplot as plt\n",
    "import tensorflow as tf\n",
    "import numpy as np\n",
    "import random"
   ]
  },
  {
   "cell_type": "code",
   "execution_count": 74,
   "metadata": {},
   "outputs": [],
   "source": [
    "# Load Data\n",
    "#mndata = MNIST('./lib')\n",
    "#mndata.gz = True\n",
    "#mages, labels = mndata.load_training()\n",
    "#images_1, labels_1 = mndata.load_testing()\n",
    "\n",
    "(x_train, y_train), \\\n",
    "  (x_test, y_test) = \\\n",
    "  tf.keras.datasets.mnist.load_data()"
   ]
  },
  {
   "cell_type": "code",
   "execution_count": 75,
   "metadata": {},
   "outputs": [],
   "source": [
    "# Feature Scaling\n",
    "x_train, x_test = \\\n",
    "  x_train[..., np.newaxis]/255.0, \\\n",
    "  x_test[..., np.newaxis]/255.0\n"
   ]
  },
  {
   "cell_type": "code",
   "execution_count": 82,
   "metadata": {},
   "outputs": [
    {
     "data": {
      "image/png": "[encoded data removed]",
      "text/plain": [
       "<Figure size 432x288 with 1 Axes>"
      ]
     },
     "metadata": {
      "needs_background": "light"
     },
     "output_type": "display_data"
    }
   ],
   "source": [
    "# Visualize Data\n",
    "index = random.randrange(0, len(x_train))\n",
    "#image = list(map(lambda a : a / 255.0, images[index])) # scale\n",
    "#print(mndata.display(images[index]))\n",
    "\n",
    "# Feature Creation\n",
    "#image = np.reshape(image, newshape=(28, 28, 1))\n",
    "#plt.figure(0)\n",
    "#plt.imshow(image)\n",
    "#plt.show()\n",
    "\n",
    "plt.figure(1)\n",
    "plt.imshow(x_train[index,:,:,0])\n",
    "plt.gray()\n",
    "plt.axis('off')\n",
    "plt.show()"
   ]
  },
  {
   "cell_type": "markdown",
   "metadata": {},
   "source": []
  }
 ],
 "metadata": {
  "interpreter": {
   "hash": "28771251137f230fac5848d27aa6aa065f8df7f156d7140e42141567d4b07c83"
  },
  "kernelspec": {
   "display_name": "Python 3.9.2 64-bit",
   "language": "python",
   "name": "python3"
  },
  "language_info": {
   "codemirror_mode": {
    "name": "ipython",
    "version": 3
   },
   "file_extension": ".py",
   "mimetype": "text/x-python",
   "name": "python",
   "nbconvert_exporter": "python",
   "pygments_lexer": "ipython3",
   "version": "3.9.2"
  },
  "orig_nbformat": 4
 },
 "nbformat": 4,
 "nbformat_minor": 2
}
