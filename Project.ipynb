{
 "cells": [
  {
   "cell_type": "markdown",
   "metadata": {},
   "source": []
  },
  {
   "cell_type": "code",
   "execution_count": 1,
   "metadata": {},
   "outputs": [],
   "source": [
    "# Imports\n",
    "from mnist import MNIST\n",
    "import numpy as np\n",
    "import random"
   ]
  },
  {
   "cell_type": "code",
   "execution_count": 2,
   "metadata": {},
   "outputs": [],
   "source": [
    "mndata = MNIST('./lib')\n",
    "mndata.gz = True\n",
    "images, labels = mndata.load_training()"
   ]
  },
  {
   "cell_type": "code",
   "execution_count": 17,
   "metadata": {},
   "outputs": [
    {
     "name": "stdout",
     "output_type": "stream",
     "text": [
      "\n",
      "............................\n",
      "............................\n",
      "............................\n",
      "............................\n",
      "............................\n",
      ".............@@.............\n",
      "........@@@@@@@@............\n",
      ".......@@@@@@@@@@...........\n",
      ".............@@@............\n",
      "............@@@@............\n",
      "............@@@.............\n",
      "...........@@@@@............\n",
      ".........@@@@@@@@@@.........\n",
      ".........@@@@@..@@@.........\n",
      "..................@@........\n",
      "..................@@........\n",
      "..................@@@.......\n",
      "..................@@........\n",
      "..................@@........\n",
      ".................@@@........\n",
      "................@@@.........\n",
      "..........@@...@@@..........\n",
      "..........@@.@@@@...........\n",
      "..........@@@@@@............\n",
      "...........@@...............\n",
      "............................\n",
      "............................\n",
      "............................\n"
     ]
    }
   ],
   "source": [
    "index = random.randrange(0, len(images))\n",
    "print(mndata.display(images[index]))"
   ]
  },
  {
   "cell_type": "markdown",
   "metadata": {},
   "source": []
  }
 ],
 "metadata": {
  "interpreter": {
   "hash": "28771251137f230fac5848d27aa6aa065f8df7f156d7140e42141567d4b07c83"
  },
  "kernelspec": {
   "display_name": "Python 3.9.2 64-bit",
   "language": "python",
   "name": "python3"
  },
  "language_info": {
   "codemirror_mode": {
    "name": "ipython",
    "version": 3
   },
   "file_extension": ".py",
   "mimetype": "text/x-python",
   "name": "python",
   "nbconvert_exporter": "python",
   "pygments_lexer": "ipython3",
   "version": "3.9.2"
  },
  "orig_nbformat": 4
 },
 "nbformat": 4,
 "nbformat_minor": 2
}
