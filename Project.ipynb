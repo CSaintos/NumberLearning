{
 "cells": [
  {
   "cell_type": "markdown",
   "metadata": {},
   "source": []
  },
  {
   "cell_type": "code",
   "execution_count": 1,
   "metadata": {},
   "outputs": [],
   "source": [
    "# Toggles/Switches\n",
    "feature_scaling = False\n",
    "normalization = True"
   ]
  },
  {
   "cell_type": "code",
   "execution_count": 2,
   "metadata": {},
   "outputs": [],
   "source": [
    "# Imports\n",
    "import matplotlib.pyplot as plt\n",
    "import tensorflow as tf\n",
    "import numpy as np\n",
    "import random"
   ]
  },
  {
   "cell_type": "code",
   "execution_count": 3,
   "metadata": {},
   "outputs": [
    {
     "name": "stdout",
     "output_type": "stream",
     "text": [
      "train features shape:  (60000, 28, 28)\n",
      "train labels shape:  (60000,)\n",
      "test set size:  10000\n",
      "Min-max values of single pixel:  (0, 255)\n",
      "[  0   0   0   0   0   0   0   0   0   0   0   0   3  18  18  18 126 136\n",
      " 175  26 166 255 247 127   0   0   0   0]\n"
     ]
    }
   ],
   "source": [
    "# Load Data\n",
    "(x_train, y_train), \\\n",
    "  (x_test, y_test) = \\\n",
    "  tf.keras.datasets.mnist.load_data()\n",
    "\n",
    "# Check data shapes\n",
    "print(\"train features shape: \", x_train.shape)\n",
    "print(\"train labels shape: \", y_train.shape)\n",
    "print(\"test set size: \", len(x_test))\n",
    "print(\"Min-max values of single pixel: \", (x_train.min(), x_test.max()))\n",
    "\n",
    "\n",
    "# Print first training example\n",
    "print(x_train[0][5]) # print a row in image\n",
    "\n",
    "#? What can we infer from checking the data?\n",
    "#* Image greyscaling ranges from 0 - 255\n",
    "#* Image size is 28 * 28 pixels\n",
    "#* Training set is 60,000 images\n",
    "#* Testing set is 10,000 images"
   ]
  },
  {
   "cell_type": "code",
   "execution_count": 4,
   "metadata": {},
   "outputs": [],
   "source": [
    "# Feature Scaling\n",
    "if feature_scaling:\n",
    "  x_train, x_test = \\\n",
    "    x_train / x_train.max(), \\\n",
    "    x_test / x_test.max()\n",
    "\n",
    "# Normalization\n",
    "if normalization:\n",
    "  x_train, x_test = \\\n",
    "    (x_train - x_train.mean()) / (x_train.max() - x_train.min()), \\\n",
    "    (x_test - x_test.mean()) / (x_test.max() - x_test.min())"
   ]
  },
  {
   "cell_type": "code",
   "execution_count": 14,
   "metadata": {},
   "outputs": [
    {
     "data": {
      "image/png": "[encoded data removed]",
      "text/plain": [
       "<Figure size 432x288 with 1 Axes>"
      ]
     },
     "metadata": {
      "needs_background": "light"
     },
     "output_type": "display_data"
    }
   ],
   "source": [
    "# Visualize Data\n",
    "index = random.randrange(0, len(x_train))\n",
    "\n",
    "plt.figure(1)\n",
    "plt.title(y_train[index])\n",
    "plt.imshow(x_train[index])\n",
    "plt.gray()\n",
    "plt.axis('off')\n",
    "plt.show()"
   ]
  },
  {
   "cell_type": "code",
   "execution_count": 6,
   "metadata": {},
   "outputs": [
    {
     "name": "stdout",
     "output_type": "stream",
     "text": [
      "Epoch 1/10\n",
      "1875/1875 [==============================] - 4s 2ms/step - loss: 7.9072 - accuracy: 0.1011 - val_loss: 7.0010 - val_accuracy: 0.1141\n",
      "Epoch 2/10\n",
      "1875/1875 [==============================] - 3s 2ms/step - loss: 7.4969 - accuracy: 0.1053 - val_loss: 5.2910 - val_accuracy: 0.0996\n",
      "Epoch 3/10\n",
      "1875/1875 [==============================] - 3s 2ms/step - loss: 7.8279 - accuracy: 0.0989 - val_loss: 8.2393 - val_accuracy: 0.0978\n",
      "Epoch 4/10\n",
      "1875/1875 [==============================] - 3s 2ms/step - loss: 8.2561 - accuracy: 0.1001 - val_loss: 8.1784 - val_accuracy: 0.1011\n",
      "Epoch 5/10\n",
      "1875/1875 [==============================] - 3s 1ms/step - loss: 8.4693 - accuracy: 0.1024 - val_loss: 8.1993 - val_accuracy: 0.0994\n",
      "Epoch 6/10\n",
      "1875/1875 [==============================] - 3s 1ms/step - loss: 8.9933 - accuracy: 0.1017 - val_loss: 9.0245 - val_accuracy: 0.1004\n",
      "Epoch 7/10\n",
      "1875/1875 [==============================] - 3s 1ms/step - loss: 9.0334 - accuracy: 0.1019 - val_loss: 9.0245 - val_accuracy: 0.1004\n",
      "Epoch 8/10\n",
      "1875/1875 [==============================] - 3s 2ms/step - loss: 9.0334 - accuracy: 0.1019 - val_loss: 9.0245 - val_accuracy: 0.1004\n",
      "Epoch 9/10\n",
      "1875/1875 [==============================] - 3s 1ms/step - loss: 9.0334 - accuracy: 0.1019 - val_loss: 9.0245 - val_accuracy: 0.1004\n",
      "Epoch 10/10\n",
      "1875/1875 [==============================] - 3s 2ms/step - loss: 9.0334 - accuracy: 0.1019 - val_loss: 9.0245 - val_accuracy: 0.1004\n"
     ]
    }
   ],
   "source": [
    "# TensorFlow solution 1\n",
    "# Set rand seed\n",
    "tf.random.set_seed(42)\n",
    "\n",
    "# Create the model\n",
    "model_1 = tf.keras.Sequential([\n",
    "  # Flattening the data turns it into a 1D array\n",
    "  #   Takes the current shape and stacks it (multiply shape)\n",
    "  #   From (28, 28) -> (, 784)\n",
    "  tf.keras.layers.Flatten(input_shape=(28,28)),\n",
    "  tf.keras.layers.Dense(4),\n",
    "  tf.keras.layers.Dense(4),\n",
    "  tf.keras.layers.Dense(10)\n",
    "])\n",
    "\n",
    "# Compile model\n",
    "model_1.compile(\n",
    "  # CategoricalCrossentropy must receive one-hot encoded data\n",
    "  # Hence shape error\n",
    "  # So instead we'll use SparseCategoricalCrossentropy() which can take in integers\n",
    "  loss=tf.keras.losses.CategoricalCrossentropy(),\n",
    "  optimizer=tf.keras.optimizers.Adam(),\n",
    "  metrics=[\"accuracy\"]\n",
    ")\n",
    "\n",
    "# Fit model\n",
    "non_norm_history = model_1.fit(\n",
    "  x_train,\n",
    "  tf.one_hot(y_train, depth=10),\n",
    "  epochs=10,\n",
    "  validation_data=(x_test, tf.one_hot(y_test, depth=10))\n",
    ")"
   ]
  },
  {
   "cell_type": "code",
   "execution_count": 15,
   "metadata": {},
   "outputs": [
    {
     "name": "stdout",
     "output_type": "stream",
     "text": [
      "Epoch 1/10\n",
      "1875/1875 [==============================] - 6s 3ms/step - loss: 1.2773 - accuracy: 0.5683 - val_loss: 0.8782 - val_accuracy: 0.7400\n",
      "Epoch 2/10\n",
      "1875/1875 [==============================] - 5s 3ms/step - loss: 0.7695 - accuracy: 0.7735 - val_loss: 0.6494 - val_accuracy: 0.8211\n",
      "Epoch 3/10\n",
      "1875/1875 [==============================] - 5s 3ms/step - loss: 0.6299 - accuracy: 0.8199 - val_loss: 0.5826 - val_accuracy: 0.8379\n",
      "Epoch 4/10\n",
      "1875/1875 [==============================] - 5s 2ms/step - loss: 0.5707 - accuracy: 0.8372 - val_loss: 0.5770 - val_accuracy: 0.8421\n",
      "Epoch 5/10\n",
      "1875/1875 [==============================] - 3s 2ms/step - loss: 0.5397 - accuracy: 0.8458 - val_loss: 0.5241 - val_accuracy: 0.8541\n",
      "Epoch 6/10\n",
      "1875/1875 [==============================] - 5s 3ms/step - loss: 0.5225 - accuracy: 0.8508 - val_loss: 0.5094 - val_accuracy: 0.8592\n",
      "Epoch 7/10\n",
      "1875/1875 [==============================] - 4s 2ms/step - loss: 0.5107 - accuracy: 0.8550 - val_loss: 0.5087 - val_accuracy: 0.8555\n",
      "Epoch 8/10\n",
      "1875/1875 [==============================] - 6s 3ms/step - loss: 0.5030 - accuracy: 0.8554 - val_loss: 0.5038 - val_accuracy: 0.8628\n",
      "Epoch 9/10\n",
      "1875/1875 [==============================] - 7s 4ms/step - loss: 0.4965 - accuracy: 0.8577 - val_loss: 0.4938 - val_accuracy: 0.8610\n",
      "Epoch 10/10\n",
      "1875/1875 [==============================] - 5s 3ms/step - loss: 0.4916 - accuracy: 0.8591 - val_loss: 0.4970 - val_accuracy: 0.8623\n"
     ]
    }
   ],
   "source": [
    "# TensorFlow solution 2\n",
    "# Change: activation function\n",
    "\n",
    "# Create the model\n",
    "model_2 = tf.keras.Sequential([\n",
    "    # Flattening our data turns it into a 1D array\n",
    "    #   Takes the current shape and stacks it (multiply shape)\n",
    "    #   In this case (28,28) -> (, 784)\n",
    "    tf.keras.layers.Flatten(input_shape=(28,28)),\n",
    "    tf.keras.layers.Dense(4, activation=\"relu\"),\n",
    "    tf.keras.layers.Dense(4, activation=\"relu\"),\n",
    "    tf.keras.layers.Dense(10, activation=tf.keras.activations.softmax)\n",
    "])\n",
    "\n",
    "# Compile model\n",
    "model_2.compile(\n",
    "    # CategoricalCrossentropy must receive one-hot encoded data\n",
    "    # Hence shape error\n",
    "    # So instead we'll use SparseCategoricalCrossentropy() which can take in integers\n",
    "    loss=tf.keras.losses.CategoricalCrossentropy(),\n",
    "    optimizer=tf.keras.optimizers.Adam(),\n",
    "    metrics=[\"accuracy\"]\n",
    ")\n",
    "\n",
    "# Fit model\n",
    "non_norm_history_2 = model_2.fit(\n",
    "    x_train,\n",
    "    tf.one_hot(y_train, depth=10),\n",
    "    epochs=10,\n",
    "    validation_data=(x_test, tf.one_hot(y_test, depth=10))\n",
    ")"
   ]
  },
  {
   "cell_type": "code",
   "execution_count": 8,
   "metadata": {},
   "outputs": [
    {
     "name": "stdout",
     "output_type": "stream",
     "text": [
      "Epoch 1/10\n",
      "1875/1875 [==============================] - 3s 1ms/step - loss: 0.7624 - accuracy: 0.7628 - val_loss: 0.4351 - val_accuracy: 0.8724\n",
      "Epoch 2/10\n",
      "1875/1875 [==============================] - 3s 1ms/step - loss: 0.4237 - accuracy: 0.8783 - val_loss: 0.3976 - val_accuracy: 0.8866\n",
      "Epoch 3/10\n",
      "1875/1875 [==============================] - 3s 1ms/step - loss: 0.3874 - accuracy: 0.8888 - val_loss: 0.3716 - val_accuracy: 0.8930\n",
      "Epoch 4/10\n",
      "1875/1875 [==============================] - 3s 1ms/step - loss: 0.3685 - accuracy: 0.8936 - val_loss: 0.3633 - val_accuracy: 0.8958\n",
      "Epoch 5/10\n",
      "1875/1875 [==============================] - 3s 1ms/step - loss: 0.3567 - accuracy: 0.8974 - val_loss: 0.3508 - val_accuracy: 0.8988\n",
      "Epoch 6/10\n",
      "1875/1875 [==============================] - 3s 1ms/step - loss: 0.3470 - accuracy: 0.8996 - val_loss: 0.3427 - val_accuracy: 0.9004\n",
      "Epoch 7/10\n",
      "1875/1875 [==============================] - 3s 1ms/step - loss: 0.3400 - accuracy: 0.9024 - val_loss: 0.3501 - val_accuracy: 0.8979\n",
      "Epoch 8/10\n",
      "1875/1875 [==============================] - 4s 2ms/step - loss: 0.3334 - accuracy: 0.9047 - val_loss: 0.3310 - val_accuracy: 0.9078\n",
      "Epoch 9/10\n",
      "1875/1875 [==============================] - 3s 2ms/step - loss: 0.3288 - accuracy: 0.9060 - val_loss: 0.3349 - val_accuracy: 0.9046\n",
      "Epoch 10/10\n",
      "1875/1875 [==============================] - 3s 1ms/step - loss: 0.3247 - accuracy: 0.9074 - val_loss: 0.3236 - val_accuracy: 0.9081\n"
     ]
    }
   ],
   "source": [
    "# TensorFlow solution 3\n",
    "\n",
    "# set rand seed\n",
    "tf.random.set_seed(42)\n",
    "\n",
    "# Create model\n",
    "model_3 = tf.keras.Sequential([\n",
    "    tf.keras.layers.Flatten(input_shape=(28,28)),\n",
    "    tf.keras.layers.Dense(6, activation=\"relu\"),\n",
    "    tf.keras.layers.Dense(6, activation=\"relu\"),\n",
    "    tf.keras.layers.Dense(10, activation=\"softmax\")\n",
    "])\n",
    "\n",
    "# Compile model\n",
    "model_3.compile(\n",
    "    loss=tf.keras.losses.CategoricalCrossentropy(),\n",
    "    optimizer=tf.keras.optimizers.Adam(),\n",
    "    metrics=[\"accuracy\"]\n",
    ")\n",
    "\n",
    "# Fit model\n",
    "history_3 = model_3.fit(\n",
    "    x_train,\n",
    "    tf.one_hot(y_train, depth=10),\n",
    "    epochs=10,\n",
    "    validation_data=(x_test, tf.one_hot(y_test, depth=10))\n",
    ")"
   ]
  },
  {
   "cell_type": "code",
   "execution_count": 9,
   "metadata": {},
   "outputs": [
    {
     "name": "stdout",
     "output_type": "stream",
     "text": [
      "Epoch 1/10\n",
      "1875/1875 [==============================] - 4s 2ms/step - loss: 0.5864 - accuracy: 0.8194 - val_loss: 0.3222 - val_accuracy: 0.9047\n",
      "Epoch 2/10\n",
      "1875/1875 [==============================] - 3s 1ms/step - loss: 0.3153 - accuracy: 0.9083 - val_loss: 0.2949 - val_accuracy: 0.9167\n",
      "Epoch 3/10\n",
      "1875/1875 [==============================] - 3s 2ms/step - loss: 0.2819 - accuracy: 0.9184 - val_loss: 0.2690 - val_accuracy: 0.9222\n",
      "Epoch 4/10\n",
      "1875/1875 [==============================] - 3s 1ms/step - loss: 0.2622 - accuracy: 0.9243 - val_loss: 0.2580 - val_accuracy: 0.9256\n",
      "Epoch 5/10\n",
      "1875/1875 [==============================] - 3s 2ms/step - loss: 0.2467 - accuracy: 0.9286 - val_loss: 0.2483 - val_accuracy: 0.9284\n",
      "Epoch 6/10\n",
      "1875/1875 [==============================] - 3s 1ms/step - loss: 0.2343 - accuracy: 0.9317 - val_loss: 0.2387 - val_accuracy: 0.9279\n",
      "Epoch 7/10\n",
      "1875/1875 [==============================] - 3s 1ms/step - loss: 0.2250 - accuracy: 0.9339 - val_loss: 0.2261 - val_accuracy: 0.9330\n",
      "Epoch 8/10\n",
      "1875/1875 [==============================] - 3s 1ms/step - loss: 0.2181 - accuracy: 0.9375 - val_loss: 0.2207 - val_accuracy: 0.9348\n",
      "Epoch 9/10\n",
      "1875/1875 [==============================] - 3s 1ms/step - loss: 0.2114 - accuracy: 0.9394 - val_loss: 0.2294 - val_accuracy: 0.9323\n",
      "Epoch 10/10\n",
      "1875/1875 [==============================] - 3s 1ms/step - loss: 0.2069 - accuracy: 0.9407 - val_loss: 0.2148 - val_accuracy: 0.9375\n"
     ]
    }
   ],
   "source": [
    "# TensorFlow solution 4\n",
    "\n",
    "# set rand seed\n",
    "tf.random.set_seed(42)\n",
    "\n",
    "# Create model\n",
    "model_4 = tf.keras.Sequential([\n",
    "    tf.keras.layers.Flatten(input_shape=(28,28)),\n",
    "    tf.keras.layers.Dense(10, activation=\"relu\"),\n",
    "    tf.keras.layers.Dense(10, activation=\"relu\"),\n",
    "    tf.keras.layers.Dense(10, activation=\"softmax\")\n",
    "])\n",
    "\n",
    "# Compile model\n",
    "model_4.compile(\n",
    "    loss=tf.keras.losses.CategoricalCrossentropy(),\n",
    "    optimizer=tf.keras.optimizers.Adam(),\n",
    "    metrics=[\"accuracy\"]\n",
    ")\n",
    "\n",
    "# Fit model\n",
    "history_4 = model_4.fit(\n",
    "    x_train,\n",
    "    tf.one_hot(y_train, depth=10),\n",
    "    epochs=10,\n",
    "    validation_data=(x_test, tf.one_hot(y_test, depth=10))\n",
    ")"
   ]
  },
  {
   "cell_type": "code",
   "execution_count": 16,
   "metadata": {},
   "outputs": [
    {
     "name": "stdout",
     "output_type": "stream",
     "text": [
      "Epoch 1/10\n",
      "1875/1875 [==============================] - 6s 3ms/step - loss: 0.2423 - accuracy: 0.9284 - val_loss: 0.1304 - val_accuracy: 0.9600\n",
      "Epoch 2/10\n",
      "1875/1875 [==============================] - 5s 3ms/step - loss: 0.1048 - accuracy: 0.9678 - val_loss: 0.1186 - val_accuracy: 0.9639\n",
      "Epoch 3/10\n",
      "1875/1875 [==============================] - 5s 3ms/step - loss: 0.0754 - accuracy: 0.9768 - val_loss: 0.0772 - val_accuracy: 0.9765\n",
      "Epoch 4/10\n",
      "1875/1875 [==============================] - 6s 3ms/step - loss: 0.0579 - accuracy: 0.9819 - val_loss: 0.0820 - val_accuracy: 0.9738\n",
      "Epoch 5/10\n",
      "1875/1875 [==============================] - 6s 3ms/step - loss: 0.0464 - accuracy: 0.9848 - val_loss: 0.1063 - val_accuracy: 0.9690\n",
      "Epoch 6/10\n",
      "1875/1875 [==============================] - 6s 3ms/step - loss: 0.0394 - accuracy: 0.9872 - val_loss: 0.0847 - val_accuracy: 0.9764\n",
      "Epoch 7/10\n",
      "1875/1875 [==============================] - 6s 3ms/step - loss: 0.0323 - accuracy: 0.9890 - val_loss: 0.0832 - val_accuracy: 0.9774\n",
      "Epoch 8/10\n",
      "1875/1875 [==============================] - 6s 3ms/step - loss: 0.0283 - accuracy: 0.9903 - val_loss: 0.0908 - val_accuracy: 0.9769\n",
      "Epoch 9/10\n",
      "1875/1875 [==============================] - 6s 3ms/step - loss: 0.0263 - accuracy: 0.9911 - val_loss: 0.0851 - val_accuracy: 0.9783\n",
      "Epoch 10/10\n",
      "1875/1875 [==============================] - 6s 3ms/step - loss: 0.0237 - accuracy: 0.9919 - val_loss: 0.0907 - val_accuracy: 0.9775\n"
     ]
    }
   ],
   "source": [
    "# TensorFlow solution 5\n",
    "\n",
    "# set rand seed\n",
    "tf.random.set_seed(42)\n",
    "\n",
    "# Create model\n",
    "model_5 = tf.keras.Sequential([\n",
    "    tf.keras.layers.Flatten(input_shape=(28,28)),\n",
    "    tf.keras.layers.Dense(100, activation=\"relu\"),\n",
    "    tf.keras.layers.Dense(100, activation=\"relu\"),\n",
    "    tf.keras.layers.Dense(10, activation=\"softmax\")\n",
    "])\n",
    "\n",
    "# Compile model\n",
    "model_5.compile(\n",
    "    loss=tf.keras.losses.CategoricalCrossentropy(),\n",
    "    optimizer=tf.keras.optimizers.Adam(),\n",
    "    metrics=[\"accuracy\"]\n",
    ")\n",
    "\n",
    "# Fit model\n",
    "history_5 = model_5.fit(\n",
    "    x_train,\n",
    "    tf.one_hot(y_train, depth=10),\n",
    "    epochs=10,\n",
    "    validation_data=(x_test, tf.one_hot(y_test, depth=10))\n",
    ")"
   ]
  },
  {
   "cell_type": "code",
   "execution_count": 11,
   "metadata": {},
   "outputs": [
    {
     "data": {
      "text/plain": [
       "(7,\n",
       " array([5.6097293e-13, 3.8742887e-10, 4.6116844e-09, 1.5496454e-06,\n",
       "        3.2859157e-10, 3.0175769e-09, 3.0935848e-11, 9.9999511e-01,\n",
       "        2.3807161e-09, 3.3545682e-06], dtype=float32))"
      ]
     },
     "execution_count": 11,
     "metadata": {},
     "output_type": "execute_result"
    }
   ],
   "source": [
    "# Test model 5\n",
    "y_probs = model_5.predict(x_test)\n",
    "y_test[0], y_probs[0]"
   ]
  },
  {
   "cell_type": "markdown",
   "metadata": {},
   "source": []
  }
 ],
 "metadata": {
  "interpreter": {
   "hash": "28771251137f230fac5848d27aa6aa065f8df7f156d7140e42141567d4b07c83"
  },
  "kernelspec": {
   "display_name": "Python 3.9.2 64-bit",
   "language": "python",
   "name": "python3"
  },
  "language_info": {
   "codemirror_mode": {
    "name": "ipython",
    "version": 3
   },
   "file_extension": ".py",
   "mimetype": "text/x-python",
   "name": "python",
   "nbconvert_exporter": "python",
   "pygments_lexer": "ipython3",
   "version": "3.9.2"
  },
  "orig_nbformat": 4
 },
 "nbformat": 4,
 "nbformat_minor": 2
}
